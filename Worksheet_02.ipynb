{
 "cells": [
  {
   "cell_type": "markdown",
   "id": "09912ad6-8342-44dc-a00b-4ed9deabd3c2",
   "metadata": {},
   "source": [
    "## Statistics 2780A - Statistical Inference ##\n",
    "## Fall 2024 #\n",
    "## Tutorial 2 #\n",
    "September 18, 2024"
   ]
  },
  {
   "cell_type": "markdown",
   "id": "f6bedf1e-d62f-4375-978c-110101cded3a",
   "metadata": {},
   "source": [
    "## Q1 ##\n",
    "1. Generate a random sample of size 50 from a Poisson distribution with mean 5. Set as seed the last 5 digits of your student ID, e.g.\n",
    "\n",
    "        set.seed(12345)\n",
    "\n",
    "\n",
    "   \n",
    "    Plot the relative frequency histogram with a fixed x-range from 0 to 15, i.e.,\n",
    "\n",
    "        xlim=c(0,15)\n",
    "\n",
    "\n",
    "    \n",
    "    Increase the sample size to 100 and 200, with the same seed and same x-axis. Compare the results\n",
    "\n"
   ]
  },
  {
   "cell_type": "code",
   "execution_count": null,
   "id": "c29a93b6-a139-4031-90ed-7da6862edcbb",
   "metadata": {},
   "outputs": [],
   "source": [
    "# Answer"
   ]
  },
  {
   "cell_type": "markdown",
   "id": "7ddfb1cd-434d-4ceb-9bae-d86ff79d29c7",
   "metadata": {},
   "source": [
    "## Q2 ##\n",
    "2. Let $p$ be the probability that a randomly selected person is satisfied with their phone. Let $X$ be the number of people in a random selection of 100 persons who like their phone. \n",
    "    1. What is the distribution of $X$?\n",
    "    2. Define the estimator $\\hat{p}= \\frac{X}{100}$ for $p$. Compute the estimate $\\hat{p}(x_1,\\ldots, x_{100})$, based on the following sample:\n",
    "       \n",
    "     `x<- c(1, 1, 1, 1, 0, 0, 0, 0, 1, 1, 0, 0, 1, 0, 0, 0, 0, 0, 0, 1, 0, 0, 1, 1, 1, 0, 1, 0, 0, 0, 1, 0, 0, 1, 0, 0, 1, 1, 0, 0, 1, 0, 1, 1, 0, 0, 0, 0, 0, 0, 1, 1, 0, 0, 1, 0, 1, 0, 0, 0, 1, 0, 1, 1, 1, 0, 1, 0, 0, 1, 1, 0, 0, 0, 0, 0, 1, 1, 0, 0, 1, 0, 0, 0, 0, 0, 1, 0, 1, 0, 1, 1, 0, 0, 1, 0, 1, 1, 0, 0)`\n",
    "\n",
    "   3. Is the distribution of $\\hat{p}$ approximatly normal? Justify your answer.    "
   ]
  },
  {
   "cell_type": "code",
   "execution_count": null,
   "id": "e42d5b4b-4174-436e-acf5-90ed4dca2ca4",
   "metadata": {},
   "outputs": [],
   "source": [
    "# Answer"
   ]
  },
  {
   "cell_type": "markdown",
   "id": "da8a5d25-4d14-4bd8-99b5-5224690c3f7c",
   "metadata": {},
   "source": [
    "## Q3 ##\n",
    "3. Let $X$ be the random variable describing the eruption time of the Old Faithful geyser in Yellowstone National Park, Wyoming, USA. The dataset $\\texttt{faithful}$ in the package $\\texttt{dataset}$ - discussed in Tutorial 1 - provides a sample of 272 observations from the random variable $X$.\n",
    "    1. Find unbiased estimates for $E(X)=\\mu$ and $Var(X)=\\sigma^2$ based on these observations.\n",
    "    2. What is the value of the biased estimator $T = \\frac{1}{n}\\sum_{i=1}^n (X_i-\\overline{X}_n)^2$ for $\\sigma^2$, based on these observations? How does this value compared with the unbiased estimate for $\\sigma^2$ obtained in A.?"
   ]
  },
  {
   "cell_type": "code",
   "execution_count": null,
   "id": "77c4a71c-24f9-458f-9e89-c8d840631497",
   "metadata": {},
   "outputs": [],
   "source": [
    "# Answer"
   ]
  }
 ],
 "metadata": {
  "kernelspec": {
   "display_name": "R",
   "language": "R",
   "name": "ir"
  },
  "language_info": {
   "codemirror_mode": "r",
   "file_extension": ".r",
   "mimetype": "text/x-r-source",
   "name": "R",
   "pygments_lexer": "r",
   "version": "4.3.3"
  }
 },
 "nbformat": 4,
 "nbformat_minor": 5
}
